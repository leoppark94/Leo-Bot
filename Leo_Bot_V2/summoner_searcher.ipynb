{
 "cells": [
  {
   "cell_type": "code",
   "execution_count": 1,
   "id": "56b73c9d",
   "metadata": {
    "ExecuteTime": {
     "end_time": "2021-12-16T10:05:16.249111Z",
     "start_time": "2021-12-16T10:05:16.125175Z"
    }
   },
   "outputs": [],
   "source": [
    "import requests\n",
    "from bs4 import BeautifulSoup\n",
    "import re"
   ]
  },
  {
   "cell_type": "code",
   "execution_count": 2,
   "id": "73361f64",
   "metadata": {
    "ExecuteTime": {
     "end_time": "2021-12-16T10:05:16.264473Z",
     "start_time": "2021-12-16T10:05:16.250065Z"
    }
   },
   "outputs": [],
   "source": [
    "# OP.GG 를 크롤링하여 솔로랭크와, 자유랭크 점수를 가져옴\n",
    "def searching_op_gg(summoner_name):\n",
    "    \n",
    "    try:\n",
    "        # 결과를 담을 변수\n",
    "        result_score = 0\n",
    "        # 헤더 추가 필요(op.gg 의 경우 requests를 막아둠)\n",
    "        header = {'User-Agent': 'Mozilla/5.0 (Windows NT 10.0; Win64; x64; rv:94.0) Gecko/20100101 Firefox/94.0'}\n",
    "        # 아이디가 입력되면 op.gg에 입력하여 검색\n",
    "        test = requests.get('https://www.op.gg/summoner/userName='+summoner_name, headers=header).text\n",
    "\n",
    "        # 티어가 있는 CSS 선택자를 가져와서 공백문자 제거\n",
    "        soup = BeautifulSoup(test, 'html.parser')\n",
    "        solo_rank_tier = soup.select_one('.TierRank').text.strip()\n",
    "        team_rank_tier = soup.select_one('.sub-tier__rank-tier').text.strip()\n",
    "        main_position = soup.select_one('ul.Content > li:nth-child(1) > div:nth-child(2) > div:nth-child(1)')\n",
    "        sub_position = soup.select_one('ul.Content > li:nth-child(2) > div:nth-child(2) > div:nth-child(1)').text.strip()\n",
    "        \n",
    "        # 솔로랭크와 자유랭크 티어를 수치화\n",
    "        # 솔로랭크의 경우 1티어 정도의 가산점을 더함\n",
    "        solo_int = tier_2_int(solo_rank_tier) + 5\n",
    "        team_int = tier_2_int(team_rank_tier)\n",
    "        \n",
    "        # 결과값 반환\n",
    "        result_score = result_score + solo_int\n",
    "        result_score = result_score + team_int\n",
    "            \n",
    "        return [summoner_name, result_score]\n",
    "        \n",
    "    except Exception as e:\n",
    "        \n",
    "        print(\"OP.GG 크롤링 에러발생, 아이디를 확인해주세요 :\"+str(e))\n",
    "        return 0"
   ]
  },
  {
   "cell_type": "code",
   "execution_count": 3,
   "id": "7090aef5",
   "metadata": {
    "ExecuteTime": {
     "end_time": "2021-12-16T10:05:16.279738Z",
     "start_time": "2021-12-16T10:05:16.265427Z"
    }
   },
   "outputs": [],
   "source": [
    "# 티어를 int 로 변환하는 함수\n",
    "def tier_2_int(rank_name_str):\n",
    "\n",
    "    result = 0\n",
    "\n",
    "    unranked = re.findall(\"Unranked\", rank_name_str)\n",
    "    iron = re.findall(\"Iron (\\d)\", rank_name_str)\n",
    "    bronze = re.findall(\"Bronze (\\d)\", rank_name_str)\n",
    "    silver = re.findall(\"Silver (\\d)\", rank_name_str)\n",
    "    gold = re.findall(\"Gold (\\d)\", rank_name_str)\n",
    "    platinum = re.findall(\"Platinum (\\d)\", rank_name_str)    \n",
    "    diamond = re.findall(\"Diamond (\\d)\", rank_name_str)\n",
    "    master = re.findall(\"Master\", rank_name_str)\n",
    "    grandmaster = re.findall(\"Grandmaster\", rank_name_str)\n",
    "    challenger = re.findall(\"Challenger\", rank_name_str)\n",
    "\n",
    "    if unranked != []:\n",
    "        result = result + 20\n",
    "\n",
    "    if iron != []:\n",
    "        temp = 5 - int(iron[0])\n",
    "        result = result + temp\n",
    "\n",
    "    if bronze != []:\n",
    "        temp = 5 - int(bronze[0])\n",
    "        result = result + temp + 5\n",
    "\n",
    "    if silver != []:\n",
    "        temp = 5 - int(silver[0])\n",
    "        result = result + temp + 10\n",
    "\n",
    "    if gold != []:\n",
    "        temp = 5 - int(gold[0])\n",
    "        result = result + temp + 15\n",
    "\n",
    "    if platinum != []:\n",
    "        temp = 5 - int(platinum[0])\n",
    "        result = result + temp + 20\n",
    "\n",
    "    if diamond != []:\n",
    "        temp = 5 - int(diamond[0])\n",
    "        result = result + temp + 25\n",
    "\n",
    "    if master != []:\n",
    "        result = result + 30\n",
    "\n",
    "    if grandmaster != []:\n",
    "        result = result + 35\n",
    "\n",
    "    if challenger != []:\n",
    "        result = result + 40\n",
    "\n",
    "    return result"
   ]
  },
  {
   "cell_type": "code",
   "execution_count": 4,
   "id": "2a82fd23",
   "metadata": {
    "ExecuteTime": {
     "end_time": "2021-12-16T10:05:17.000009Z",
     "start_time": "2021-12-16T10:05:16.280692Z"
    }
   },
   "outputs": [
    {
     "data": {
      "text/plain": [
       "['Leo레오', None, '?', 57]"
      ]
     },
     "execution_count": 4,
     "metadata": {},
     "output_type": "execute_result"
    }
   ],
   "source": [
    "searching_op_gg(\"Leo레오\")"
   ]
  },
  {
   "cell_type": "code",
   "execution_count": null,
   "id": "167674e6",
   "metadata": {},
   "outputs": [],
   "source": []
  }
 ],
 "metadata": {
  "kernelspec": {
   "display_name": "Python 3 (ipykernel)",
   "language": "python",
   "name": "python3"
  },
  "language_info": {
   "codemirror_mode": {
    "name": "ipython",
    "version": 3
   },
   "file_extension": ".py",
   "mimetype": "text/x-python",
   "name": "python",
   "nbconvert_exporter": "python",
   "pygments_lexer": "ipython3",
   "version": "3.7.5"
  }
 },
 "nbformat": 4,
 "nbformat_minor": 5
}
