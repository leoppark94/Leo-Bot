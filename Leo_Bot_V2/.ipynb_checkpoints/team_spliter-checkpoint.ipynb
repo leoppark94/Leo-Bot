{
 "cells": [
  {
   "cell_type": "code",
   "execution_count": 1,
   "id": "74f5e811",
   "metadata": {
    "ExecuteTime": {
     "end_time": "2021-12-16T10:34:51.039904Z",
     "start_time": "2021-12-16T10:34:51.022634Z"
    }
   },
   "outputs": [],
   "source": [
    "import random"
   ]
  },
  {
   "cell_type": "code",
   "execution_count": 6,
   "id": "a325cd99",
   "metadata": {
    "ExecuteTime": {
     "end_time": "2021-12-16T10:40:25.562578Z",
     "start_time": "2021-12-16T10:40:25.553991Z"
    }
   },
   "outputs": [],
   "source": [
    "# 10명의 점수와 아이디가 담겨있는 리스트가 들어가야함\n",
    "def team_spliter(test_data):\n",
    "    temp_result = []\n",
    "    team_gap = 500\n",
    "    for i in range(10):\n",
    "        random.shuffle(test_data)\n",
    "        team_1 = test_data[0:5]\n",
    "        team_2 = test_data[5:10]\n",
    "\n",
    "        team_1_total = 0\n",
    "        team_2_total = 0\n",
    "\n",
    "        for team_1_member in team_1:\n",
    "            team_1_total = team_1_total + team_1_member[1]\n",
    "\n",
    "        for team_2_member in team_2:\n",
    "            team_2_total = team_2_total + team_2_member[1]\n",
    "\n",
    "        temp_team_gap = abs(team_1_total - team_2_total)\n",
    "\n",
    "        if team_gap > temp_team_gap:\n",
    "            team_gap = temp_team_gap\n",
    "            temp_result = test_data\n",
    "            \n",
    "        return temp_result, team_gap"
   ]
  }
 ],
 "metadata": {
  "kernelspec": {
   "display_name": "Python 3 (ipykernel)",
   "language": "python",
   "name": "python3"
  },
  "language_info": {
   "codemirror_mode": {
    "name": "ipython",
    "version": 3
   },
   "file_extension": ".py",
   "mimetype": "text/x-python",
   "name": "python",
   "nbconvert_exporter": "python",
   "pygments_lexer": "ipython3",
   "version": "3.7.5"
  }
 },
 "nbformat": 4,
 "nbformat_minor": 5
}
